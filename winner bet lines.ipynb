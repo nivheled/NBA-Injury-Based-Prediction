{
 "cells": [
  {
   "cell_type": "code",
   "execution_count": 198,
   "metadata": {},
   "outputs": [],
   "source": [
    "import pandas as pd\n",
    "from bs4 import BeautifulSoup\n",
    "import urllib.request\n",
    "import time"
   ]
  },
  {
   "cell_type": "code",
   "execution_count": 194,
   "metadata": {},
   "outputs": [
    {
     "data": {
      "text/plain": [
       "bs4.BeautifulSoup"
      ]
     },
     "execution_count": 194,
     "metadata": {},
     "output_type": "execute_result"
    }
   ],
   "source": [
    "url = 'https://www.winner.co.il/mainbook/sport-%D7%9B%D7%93%D7%95%D7%A8%D7%A1%D7%9C/ep-%D7%90%D7%A8%D7%A6%D7%95%D7%AA-%D7%94%D7%91%D7%A8%D7%99%D7%AA/ep-%D7%A4%D7%9C%D7%99%D7%99%D7%90%D7%95%D7%A3---NBA'\n",
    "try:\n",
    "    page = urllib.request.urlopen(url)\n",
    "except:\n",
    "    print('An error occured.')\n",
    "soup = BeautifulSoup(page,'lxml')"
   ]
  },
  {
   "cell_type": "code",
   "execution_count": 205,
   "metadata": {},
   "outputs": [],
   "source": [
    "def extarct_games_to_df(soup):\n",
    "    \"\"\"\n",
    "    function extract winner games and lines to data frame \n",
    "    :param soup: bs4.BeautifulSoup - soup of a page\n",
    "    :return: data frame - data frame with NBA winner games and lines \n",
    "    \"\"\"   \n",
    "    \n",
    "    teams = {\"יוטה ג'אז\" : \"Utah Jazz\",\"ניו אורלינס פליקאנס\" : \"New Orleans Pelicans\", \"דנבר נאגטס\" : \"Denver Nuggets\",\n",
    "                  \"יוסטון רוקטס\" : \"Houston Rockets\", \"מילווקי באקס\" : \"Milwaukee Bucks\", \"בוסטון סלטיקס\" : \"Boston Celtics\",\n",
    "                  \"גולדן סטייט ווריורס\" : \"Golden State Warriors\", \"פילדלפיה 76\" : \"Philadelphia 76ers\", \"דטרויט פיסטונס\" : \"Detroit Pistons\",\n",
    "                  \"ברוקלין נטס\" : \"Brooklyn Nets\", \"טורונטו ראפטורס\" : \"Toronto Raptors\", \"אטלנטה הוקס\" : \"Atlanta Hawks\",\n",
    "                  \"סקרמנטו קינגס\" : \"Sacramento Kings\", \"ממפיס גריזליס\" : \"Memphis Grizzlies\", \"לוס אנג'לס קליפרס\" : \"LA Clippers\",\n",
    "                  \"לוס אנג'לס לייקרס\" : \"Los Angeles Lakers\", \"שארלוט הורנטס\" : \"Charlotte Hornets\", \"פורטלנד טרייל בלייזרס\" : \"Portland Trail Blazers\",\n",
    "                  \"פיניקס סאנס\" : \"Phoenix Suns\", \"אורלנדו מג'יק\" : \"Orlando Magic\", \"מינסוטה טימברוולבס\" : \"Minnesota Timberwolves\",\n",
    "                  \"דאלאס מאבריקס\" : \"Dallas Mavericks\", \"סאן אנטוניו ספרס\" : \"San Antonio Spurs\", \"אינדיאנה פייסרס\" : \"Indiana Pacers\",\n",
    "                  \"שיקגו בולס\" : \"Chicago Bulls\", \"מיאמי היט\" : \"Miami Heat\", \"אוקלהומה סיטי ת'אנדר\" : \"Oklahoma City Thunder\",\n",
    "                  \"וושינגטון וויזארדס\" : \"Washington Wizards\", \"קליבלנד קבלירס\" : \"Cleveland Cavaliers\", \"ניו יורק ניקס\" : \"New York Knicks\"}\n",
    "    \n",
    "    games = soup.find_all('div', attrs = {'class': 'event-content sport_BASK'})\n",
    "    df = pd.DataFrame()\n",
    "    df1 = pd.DataFrame()\n",
    "    for game in games:\n",
    "        home_team = game.find_all('span',{'class' :\"name ellipsis outcomedescription\"})[0].text.partition(\" (\")[0]\n",
    "        if home_team not in teams:\n",
    "            continue\n",
    "        else:\n",
    "            home_team = teams[home_team]\n",
    "        guest_team = game.find_all('span',{'class' :\"name ellipsis outcomedescription\"})[2].text.partition(\" (\")[0]\n",
    "        guest_team = teams[guest_team]\n",
    "        game_time = game.find('td',{'class' :\"time_date\"}).text\n",
    "        lines = game.find_all('span',{'class' :\"formatted_price\"})\n",
    "        home_line = lines[0].text\n",
    "        x_line = lines[1].text\n",
    "        guest_line = lines[2].text\n",
    "        sign = game.find_all('span',{'class' :\"name ellipsis outcomedescription\"})[0].text[-2]\n",
    "        advantage = int(game.find_all('span',{'class' :\"name ellipsis outcomedescription\"})[0].text[-4] + sign)\n",
    "\n",
    "        df1['game_time'] = [game_time]\n",
    "        df1['chcek_time'] = time.strftime(\"%H:%M\")\n",
    "        df1['home'] = [home_team]\n",
    "        df1['guest'] = [guest_team]\n",
    "        df1['1'] = [home_line]\n",
    "        df1['X'] = [x_line]\n",
    "        df1['2'] = [guest_line]\n",
    "        df1['advantage'] = [advantage]\n",
    "        df = df.append(df1)\n",
    "    return df\n"
   ]
  }
 ],
 "metadata": {
  "kernelspec": {
   "display_name": "Python 3",
   "language": "python",
   "name": "python3"
  },
  "language_info": {
   "codemirror_mode": {
    "name": "ipython",
    "version": 3
   },
   "file_extension": ".py",
   "mimetype": "text/x-python",
   "name": "python",
   "nbconvert_exporter": "python",
   "pygments_lexer": "ipython3",
   "version": "3.8.3"
  }
 },
 "nbformat": 4,
 "nbformat_minor": 4
}
